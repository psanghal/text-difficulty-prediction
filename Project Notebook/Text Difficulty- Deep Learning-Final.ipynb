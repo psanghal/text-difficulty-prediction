{
 "cells": [
  {
   "cell_type": "markdown",
   "metadata": {},
   "source": [
    "## 3. This notebook explores use of Deep Learning Models to predict text difficulty: \n",
    "\n",
    "1. Here, we used Simple NN structure w/o GridsearchCV\n",
    "2. And CNN with Bidirectional GRU along with attention layer.\n",
    "        a. CNN-BiGRU with attention helps to improve text classification as per article cited below. \n",
    "        Please see reference below.\n",
    "        \n",
    "https://www.researchgate.net/publication/329189864_A_Bi-Directional_LSTM-CNN_Model_with_Attention_for_Aspect-Level_Text_Classification \n",
    "\n",
    "I just wanted to try it out with two differnt tokenizers  (keras text tokenizer and sentence piece tokenizer) to evaluate the difference in model performance. Some models took longer run time, hence I tried to limit the scope of the model architecture. \n",
    "\n",
    "#### Train and test accuracy ranged between 75% to 70% approximately.  "
   ]
  },
  {
   "cell_type": "code",
   "execution_count": 1,
   "metadata": {},
   "outputs": [
    {
     "name": "stderr",
     "output_type": "stream",
     "text": [
      "Using TensorFlow backend.\n"
     ]
    }
   ],
   "source": [
    "import keras\n",
    "from keras.models import Sequential\n",
    "from keras.layers import Dense, LSTM, BatchNormalization, Dropout, Conv1D, MaxPooling1D, GRU, Bidirectional\n",
    "from keras.wrappers.scikit_learn import KerasClassifier\n",
    "from keras.layers.embeddings import Embedding\n",
    "from keras.preprocessing import sequence\n",
    "from keras.callbacks import EarlyStopping\n",
    "from keras.optimizers import Adam\n",
    "import warnings \n",
    "warnings.filterwarnings('ignore')\n",
    "from sklearn.model_selection import cross_val_score, train_test_split, StratifiedKFold, GridSearchCV\n",
    "from sklearn.metrics import confusion_matrix, classification_report, precision_score, recall_score, roc_auc_score, accuracy_score, roc_curve, f1_score\n",
    "import pandas as pd\n",
    "import numpy as np\n",
    "import matplotlib.pyplot as plt\n",
    "%matplotlib inline\n",
    "# fix random seed for reproducibility\n",
    "np.random.seed(0)\n",
    "from tensorflow.keras.preprocessing.text import Tokenizer\n",
    "from tensorflow.keras.preprocessing.sequence import pad_sequences\n",
    "from keras_self_attention import SeqWeightedAttention\n",
    "import sentencepiece as spm\n",
    "from functools import lru_cache"
   ]
  },
  {
   "cell_type": "markdown",
   "metadata": {},
   "source": [
    "## 1.Build simple NN model: Architecture"
   ]
  },
  {
   "cell_type": "markdown",
   "metadata": {},
   "source": [
    "#### A. Using extracted features in tabular form:\n",
    "1. Approach 1: GridsearchCV hyperparameters & Estimate Mean Accuracy using cv = 3. \n",
    "      - But it doe snot support Early Stopping to save computational resources. \n",
    "      \n",
    "      \n",
    "2. Approach 2: Estimate Accuracy Score with validation_split= 20%. \n",
    "      - But it does not allow a way to use cross_val_score or GridSearchCV. "
   ]
  },
  {
   "cell_type": "markdown",
   "metadata": {},
   "source": [
    "#### Approach 1: Using GridSerachCV"
   ]
  },
  {
   "cell_type": "code",
   "execution_count": 2,
   "metadata": {},
   "outputs": [
    {
     "data": {
      "text/html": [
       "<div>\n",
       "<style scoped>\n",
       "    .dataframe tbody tr th:only-of-type {\n",
       "        vertical-align: middle;\n",
       "    }\n",
       "\n",
       "    .dataframe tbody tr th {\n",
       "        vertical-align: top;\n",
       "    }\n",
       "\n",
       "    .dataframe thead th {\n",
       "        text-align: right;\n",
       "    }\n",
       "</style>\n",
       "<table border=\"1\" class=\"dataframe\">\n",
       "  <thead>\n",
       "    <tr style=\"text-align: right;\">\n",
       "      <th></th>\n",
       "      <th>english</th>\n",
       "      <th>pca1</th>\n",
       "      <th>pca2</th>\n",
       "      <th>pca3</th>\n",
       "      <th>pca4</th>\n",
       "      <th>pca5</th>\n",
       "      <th>pca6</th>\n",
       "      <th>count_lemma_85_above</th>\n",
       "      <th>count_lemma_85_below</th>\n",
       "      <th>PRON</th>\n",
       "      <th>...</th>\n",
       "      <th>CCONJ</th>\n",
       "      <th>ADJ</th>\n",
       "      <th>NUM</th>\n",
       "      <th>X</th>\n",
       "      <th>INTJ</th>\n",
       "      <th>SYM</th>\n",
       "      <th>nsyll</th>\n",
       "      <th>sent_length</th>\n",
       "      <th>count_unk</th>\n",
       "      <th>avg_wrd_len</th>\n",
       "    </tr>\n",
       "  </thead>\n",
       "  <tbody>\n",
       "    <tr>\n",
       "      <th>0</th>\n",
       "      <td>1</td>\n",
       "      <td>-1.241217</td>\n",
       "      <td>0.088320</td>\n",
       "      <td>-0.179642</td>\n",
       "      <td>-0.222200</td>\n",
       "      <td>-1.284015</td>\n",
       "      <td>-0.170834</td>\n",
       "      <td>21</td>\n",
       "      <td>0</td>\n",
       "      <td>1.0</td>\n",
       "      <td>...</td>\n",
       "      <td>3.0</td>\n",
       "      <td>1.0</td>\n",
       "      <td>0.0</td>\n",
       "      <td>0.0</td>\n",
       "      <td>0.0</td>\n",
       "      <td>0.0</td>\n",
       "      <td>58</td>\n",
       "      <td>35</td>\n",
       "      <td>6</td>\n",
       "      <td>4.485714</td>\n",
       "    </tr>\n",
       "    <tr>\n",
       "      <th>1</th>\n",
       "      <td>1</td>\n",
       "      <td>-0.709833</td>\n",
       "      <td>0.029789</td>\n",
       "      <td>-0.094246</td>\n",
       "      <td>-0.031762</td>\n",
       "      <td>-0.808466</td>\n",
       "      <td>-0.026293</td>\n",
       "      <td>13</td>\n",
       "      <td>0</td>\n",
       "      <td>0.0</td>\n",
       "      <td>...</td>\n",
       "      <td>0.0</td>\n",
       "      <td>3.0</td>\n",
       "      <td>0.0</td>\n",
       "      <td>0.0</td>\n",
       "      <td>0.0</td>\n",
       "      <td>0.0</td>\n",
       "      <td>45</td>\n",
       "      <td>22</td>\n",
       "      <td>8</td>\n",
       "      <td>5.818182</td>\n",
       "    </tr>\n",
       "    <tr>\n",
       "      <th>2</th>\n",
       "      <td>1</td>\n",
       "      <td>-1.476741</td>\n",
       "      <td>0.121393</td>\n",
       "      <td>-0.185596</td>\n",
       "      <td>-0.338178</td>\n",
       "      <td>-1.535181</td>\n",
       "      <td>-0.191979</td>\n",
       "      <td>28</td>\n",
       "      <td>0</td>\n",
       "      <td>3.0</td>\n",
       "      <td>...</td>\n",
       "      <td>1.0</td>\n",
       "      <td>0.0</td>\n",
       "      <td>2.0</td>\n",
       "      <td>0.0</td>\n",
       "      <td>0.0</td>\n",
       "      <td>0.0</td>\n",
       "      <td>66</td>\n",
       "      <td>42</td>\n",
       "      <td>6</td>\n",
       "      <td>4.642857</td>\n",
       "    </tr>\n",
       "    <tr>\n",
       "      <th>3</th>\n",
       "      <td>1</td>\n",
       "      <td>0.725988</td>\n",
       "      <td>-0.165156</td>\n",
       "      <td>0.217168</td>\n",
       "      <td>0.232158</td>\n",
       "      <td>-0.917349</td>\n",
       "      <td>-0.221426</td>\n",
       "      <td>26</td>\n",
       "      <td>0</td>\n",
       "      <td>0.0</td>\n",
       "      <td>...</td>\n",
       "      <td>1.0</td>\n",
       "      <td>3.0</td>\n",
       "      <td>0.0</td>\n",
       "      <td>0.0</td>\n",
       "      <td>0.0</td>\n",
       "      <td>0.0</td>\n",
       "      <td>64</td>\n",
       "      <td>32</td>\n",
       "      <td>2</td>\n",
       "      <td>6.281250</td>\n",
       "    </tr>\n",
       "    <tr>\n",
       "      <th>4</th>\n",
       "      <td>1</td>\n",
       "      <td>-0.792123</td>\n",
       "      <td>-0.048933</td>\n",
       "      <td>0.170466</td>\n",
       "      <td>0.261691</td>\n",
       "      <td>-0.101480</td>\n",
       "      <td>0.524189</td>\n",
       "      <td>12</td>\n",
       "      <td>1</td>\n",
       "      <td>0.0</td>\n",
       "      <td>...</td>\n",
       "      <td>1.0</td>\n",
       "      <td>3.0</td>\n",
       "      <td>0.0</td>\n",
       "      <td>0.0</td>\n",
       "      <td>0.0</td>\n",
       "      <td>0.0</td>\n",
       "      <td>42</td>\n",
       "      <td>31</td>\n",
       "      <td>6</td>\n",
       "      <td>4.612903</td>\n",
       "    </tr>\n",
       "  </tbody>\n",
       "</table>\n",
       "<p>5 rows × 30 columns</p>\n",
       "</div>"
      ],
      "text/plain": [
       "   english      pca1      pca2      pca3      pca4      pca5      pca6  \\\n",
       "0        1 -1.241217  0.088320 -0.179642 -0.222200 -1.284015 -0.170834   \n",
       "1        1 -0.709833  0.029789 -0.094246 -0.031762 -0.808466 -0.026293   \n",
       "2        1 -1.476741  0.121393 -0.185596 -0.338178 -1.535181 -0.191979   \n",
       "3        1  0.725988 -0.165156  0.217168  0.232158 -0.917349 -0.221426   \n",
       "4        1 -0.792123 -0.048933  0.170466  0.261691 -0.101480  0.524189   \n",
       "\n",
       "   count_lemma_85_above  count_lemma_85_below  PRON  ...  CCONJ  ADJ  NUM  \\\n",
       "0                    21                     0   1.0  ...    3.0  1.0  0.0   \n",
       "1                    13                     0   0.0  ...    0.0  3.0  0.0   \n",
       "2                    28                     0   3.0  ...    1.0  0.0  2.0   \n",
       "3                    26                     0   0.0  ...    1.0  3.0  0.0   \n",
       "4                    12                     1   0.0  ...    1.0  3.0  0.0   \n",
       "\n",
       "     X  INTJ  SYM  nsyll  sent_length  count_unk  avg_wrd_len  \n",
       "0  0.0   0.0  0.0     58           35          6     4.485714  \n",
       "1  0.0   0.0  0.0     45           22          8     5.818182  \n",
       "2  0.0   0.0  0.0     66           42          6     4.642857  \n",
       "3  0.0   0.0  0.0     64           32          2     6.281250  \n",
       "4  0.0   0.0  0.0     42           31          6     4.612903  \n",
       "\n",
       "[5 rows x 30 columns]"
      ]
     },
     "execution_count": 2,
     "metadata": {},
     "output_type": "execute_result"
    }
   ],
   "source": [
    "# Get feature set: \n",
    "features = pd.read_csv('extracted_train_features_with_stopwords_pca.csv')\n",
    "features.iloc[:,6:].head()"
   ]
  },
  {
   "cell_type": "code",
   "execution_count": 3,
   "metadata": {},
   "outputs": [
    {
     "name": "stdout",
     "output_type": "stream",
     "text": [
      "5202.984375\n"
     ]
    }
   ],
   "source": [
    "# Select number of neurons in dense layer: \n",
    "# Use formula: Source Stakoverflow and it seems to work well. \n",
    "# N = Number of observations/(alpha * (Number of input features + Number of output features))\n",
    "# Alpha can be anywhere between 2 to 9\n",
    "\n",
    "N = 332991/(2*32)\n",
    "print(N)"
   ]
  },
  {
   "cell_type": "code",
   "execution_count": 4,
   "metadata": {},
   "outputs": [],
   "source": [
    "@lru_cache(128)\n",
    "def create_simple_NN():\n",
    "    \n",
    "    \n",
    "    # Create Sequential model: \n",
    "    model_grid = Sequential()\n",
    "    \n",
    "    # add layers: \n",
    "\n",
    "    # normalize\n",
    "    model_grid.add(BatchNormalization(input_shape = (30,)))\n",
    "\n",
    "    # hidden layer with dropout\n",
    "    model_grid.add(Dense(1000, kernel_initializer='normal', activation='relu', input_shape= (30,) ))\n",
    "    model_grid.add(Dropout(0.1))\n",
    "\n",
    "    # hidden layer with dropout\n",
    "    model_grid.add(Dense(500, kernel_initializer='normal', activation='relu'))\n",
    "    model_grid.add(Dropout(0.2))\n",
    "\n",
    "    # hidden layer with dropout\n",
    "    model_grid.add(Dense(1000, kernel_initializer='normal',  activation='relu'))\n",
    "    model_grid.add(Dropout(0.2))\n",
    "\n",
    "    # hidden layer with dropout\n",
    "    model_grid.add(Dense(500, kernel_initializer='normal', activation='relu'))\n",
    "    model_grid.add(Dropout(0.2))\n",
    "\n",
    "    # hidden layer \n",
    "    model_grid.add(Dense(500, kernel_initializer='normal', activation='relu'))\n",
    "\n",
    "    # hidden layer \n",
    "    model_grid.add(Dense(1000, kernel_initializer='normal', activation='relu'))\n",
    "\n",
    "    # hidden layer with dropout\n",
    "    model_grid.add(Dense(1000, kernel_initializer='normal', activation='relu'))\n",
    "    model_grid.add(Dropout(0.1))\n",
    "\n",
    "    # output layer\n",
    "    model_grid.add(Dense(1, kernel_initializer='normal', activation='sigmoid'))  \n",
    "    \n",
    "    # compile model: \n",
    "    model_grid.compile(optimizer = 'adam', loss = 'binary_crossentropy', metrics = ['accuracy'])\n",
    "    \n",
    "    return model_grid"
   ]
  },
  {
   "cell_type": "code",
   "execution_count": 5,
   "metadata": {},
   "outputs": [
    {
     "name": "stdout",
     "output_type": "stream",
     "text": [
      "(416239, 30) (416239,)\n"
     ]
    }
   ],
   "source": [
    "# Get input features and target lables as dataframes: \n",
    "X = features.iloc[:,6:]\n",
    "y = features.iloc[:,5]\n",
    "print(X.shape, y.shape)"
   ]
  },
  {
   "cell_type": "code",
   "execution_count": 6,
   "metadata": {},
   "outputs": [],
   "source": [
    "# Build Model:\n",
    "\n",
    "model_grid = KerasClassifier(build_fn=create_simple_NN, verbose = 0)\n",
    "cv = StratifiedKFold(n_splits=3, shuffle=True,  random_state=0)"
   ]
  },
  {
   "cell_type": "code",
   "execution_count": 7,
   "metadata": {
    "scrolled": true
   },
   "outputs": [
    {
     "name": "stdout",
     "output_type": "stream",
     "text": [
      "Fitting 3 folds for each of 4 candidates, totalling 12 fits\n"
     ]
    },
    {
     "name": "stderr",
     "output_type": "stream",
     "text": [
      "[Parallel(n_jobs=1)]: Using backend SequentialBackend with 1 concurrent workers.\n",
      "[Parallel(n_jobs=1)]: Done  12 out of  12 | elapsed:  8.3min finished\n"
     ]
    },
    {
     "name": "stdout",
     "output_type": "stream",
     "text": [
      "{'batch_size': 1000, 'epochs': 8} 0.6337939369382356\n",
      "CPU times: user 34min 3s, sys: 1min 34s, total: 35min 38s\n",
      "Wall time: 9min 29s\n"
     ]
    }
   ],
   "source": [
    "%%time\n",
    "# Run GridSearchCV: \n",
    "\n",
    "# initiate Parameters\n",
    "batch_sizes = [500, 1000]\n",
    "epochs = [5, 8]\n",
    "params = dict(epochs = epochs, batch_size = batch_sizes)\n",
    "\n",
    "# initiate GridSearchCV with parameters:\n",
    "grid_nn = GridSearchCV(estimator=model_grid, param_grid= params, scoring='accuracy', cv = cv, verbose=1, n_jobs=1)\n",
    "\n",
    "# gridSearchCV result: \n",
    "# apply on 10 % data to get the parameters: \n",
    "grid_nn_result = grid_nn.fit(X.sample(frac=0.1).values, y.sample(frac=0.1).values)\n",
    "\n",
    "# print Grid result with 10% data: \n",
    "print(grid_nn_result.best_params_, grid_nn_result.best_score_)"
   ]
  },
  {
   "cell_type": "code",
   "execution_count": 8,
   "metadata": {},
   "outputs": [
    {
     "name": "stdout",
     "output_type": "stream",
     "text": [
      "Model: \"sequential_1\"\n",
      "_________________________________________________________________\n",
      "Layer (type)                 Output Shape              Param #   \n",
      "=================================================================\n",
      "batch_normalization_1 (Batch (None, 30)                120       \n",
      "_________________________________________________________________\n",
      "dense_1 (Dense)              (None, 1000)              31000     \n",
      "_________________________________________________________________\n",
      "dropout_1 (Dropout)          (None, 1000)              0         \n",
      "_________________________________________________________________\n",
      "dense_2 (Dense)              (None, 500)               500500    \n",
      "_________________________________________________________________\n",
      "dropout_2 (Dropout)          (None, 500)               0         \n",
      "_________________________________________________________________\n",
      "dense_3 (Dense)              (None, 1000)              501000    \n",
      "_________________________________________________________________\n",
      "dropout_3 (Dropout)          (None, 1000)              0         \n",
      "_________________________________________________________________\n",
      "dense_4 (Dense)              (None, 500)               500500    \n",
      "_________________________________________________________________\n",
      "dropout_4 (Dropout)          (None, 500)               0         \n",
      "_________________________________________________________________\n",
      "dense_5 (Dense)              (None, 500)               250500    \n",
      "_________________________________________________________________\n",
      "dense_6 (Dense)              (None, 1000)              501000    \n",
      "_________________________________________________________________\n",
      "dense_7 (Dense)              (None, 1000)              1001000   \n",
      "_________________________________________________________________\n",
      "dropout_5 (Dropout)          (None, 1000)              0         \n",
      "_________________________________________________________________\n",
      "dense_8 (Dense)              (None, 1)                 1001      \n",
      "=================================================================\n",
      "Total params: 3,286,621\n",
      "Trainable params: 3,286,561\n",
      "Non-trainable params: 60\n",
      "_________________________________________________________________\n"
     ]
    }
   ],
   "source": [
    "# Simple NN network: \n",
    "create_simple_NN().summary()"
   ]
  },
  {
   "cell_type": "code",
   "execution_count": 9,
   "metadata": {
    "scrolled": true
   },
   "outputs": [
    {
     "name": "stdout",
     "output_type": "stream",
     "text": [
      "Epoch 1/8\n",
      "277492/277492 [==============================] - 59s 211us/step - loss: 0.6400 - accuracy: 0.6321\n",
      "\n",
      "Epoch 00001: saving model to nn_checkpoint\n",
      "Epoch 2/8\n",
      "277492/277492 [==============================] - 63s 225us/step - loss: 0.6146 - accuracy: 0.6531\n",
      "\n",
      "Epoch 00002: saving model to nn_checkpoint\n",
      "Epoch 3/8\n",
      "277492/277492 [==============================] - 62s 225us/step - loss: 0.6081 - accuracy: 0.6577\n",
      "\n",
      "Epoch 00003: saving model to nn_checkpoint\n",
      "Epoch 4/8\n",
      "277492/277492 [==============================] - 64s 229us/step - loss: 0.6027 - accuracy: 0.6604\n",
      "\n",
      "Epoch 00004: saving model to nn_checkpoint\n",
      "Epoch 5/8\n",
      "277492/277492 [==============================] - 62s 222us/step - loss: 0.5989 - accuracy: 0.6637\n",
      "\n",
      "Epoch 00005: saving model to nn_checkpoint\n",
      "Epoch 6/8\n",
      "277492/277492 [==============================] - 63s 228us/step - loss: 0.5958 - accuracy: 0.6668\n",
      "\n",
      "Epoch 00006: saving model to nn_checkpoint\n",
      "Epoch 7/8\n",
      "277492/277492 [==============================] - 66s 237us/step - loss: 0.5927 - accuracy: 0.6693\n",
      "\n",
      "Epoch 00007: saving model to nn_checkpoint\n",
      "Epoch 8/8\n",
      "277492/277492 [==============================] - 69s 249us/step - loss: 0.5904 - accuracy: 0.6720\n",
      "\n",
      "Epoch 00008: saving model to nn_checkpoint\n",
      "138747/138747 [==============================] - 6s 40us/step\n",
      "Epoch 1/8\n",
      "277493/277493 [==============================] - 65s 234us/step - loss: 0.5946 - accuracy: 0.6670\n",
      "\n",
      "Epoch 00001: saving model to nn_checkpoint\n",
      "Epoch 2/8\n",
      "277493/277493 [==============================] - 63s 229us/step - loss: 0.5912 - accuracy: 0.6700\n",
      "\n",
      "Epoch 00002: saving model to nn_checkpoint\n",
      "Epoch 3/8\n",
      "277493/277493 [==============================] - 64s 230us/step - loss: 0.5877 - accuracy: 0.6738\n",
      "\n",
      "Epoch 00003: saving model to nn_checkpoint\n",
      "Epoch 4/8\n",
      "277493/277493 [==============================] - 68s 246us/step - loss: 0.5850 - accuracy: 0.6766\n",
      "\n",
      "Epoch 00004: saving model to nn_checkpoint\n",
      "Epoch 5/8\n",
      "277493/277493 [==============================] - 67s 241us/step - loss: 0.5815 - accuracy: 0.6790\n",
      "\n",
      "Epoch 00005: saving model to nn_checkpoint\n",
      "Epoch 6/8\n",
      "277493/277493 [==============================] - 61s 219us/step - loss: 0.5786 - accuracy: 0.6824\n",
      "\n",
      "Epoch 00006: saving model to nn_checkpoint\n",
      "Epoch 7/8\n",
      "277493/277493 [==============================] - 67s 243us/step - loss: 0.5756 - accuracy: 0.6854\n",
      "\n",
      "Epoch 00007: saving model to nn_checkpoint\n",
      "Epoch 8/8\n",
      "277493/277493 [==============================] - 62s 224us/step - loss: 0.5717 - accuracy: 0.6884\n",
      "\n",
      "Epoch 00008: saving model to nn_checkpoint\n",
      "138746/138746 [==============================] - 5s 40us/step\n",
      "Epoch 1/8\n",
      "277493/277493 [==============================] - 65s 233us/step - loss: 0.5819 - accuracy: 0.6786\n",
      "\n",
      "Epoch 00001: saving model to nn_checkpoint\n",
      "Epoch 2/8\n",
      "277493/277493 [==============================] - 62s 222us/step - loss: 0.5771 - accuracy: 0.6830\n",
      "\n",
      "Epoch 00002: saving model to nn_checkpoint\n",
      "Epoch 3/8\n",
      "277493/277493 [==============================] - 64s 230us/step - loss: 0.5732 - accuracy: 0.6863\n",
      "\n",
      "Epoch 00003: saving model to nn_checkpoint\n",
      "Epoch 4/8\n",
      "277493/277493 [==============================] - 60s 217us/step - loss: 0.5696 - accuracy: 0.6906\n",
      "\n",
      "Epoch 00004: saving model to nn_checkpoint\n",
      "Epoch 5/8\n",
      "277493/277493 [==============================] - 60s 217us/step - loss: 0.5651 - accuracy: 0.6937\n",
      "\n",
      "Epoch 00005: saving model to nn_checkpoint\n",
      "Epoch 6/8\n",
      "277493/277493 [==============================] - 60s 215us/step - loss: 0.5614 - accuracy: 0.6984\n",
      "\n",
      "Epoch 00006: saving model to nn_checkpoint\n",
      "Epoch 7/8\n",
      "277493/277493 [==============================] - 60s 216us/step - loss: 0.5574 - accuracy: 0.7007\n",
      "\n",
      "Epoch 00007: saving model to nn_checkpoint\n",
      "Epoch 8/8\n",
      "277493/277493 [==============================] - 63s 226us/step - loss: 0.5530 - accuracy: 0.7048\n",
      "\n",
      "Epoch 00008: saving model to nn_checkpoint\n",
      "138746/138746 [==============================] - 5s 34us/step\n",
      "CPU times: user 1h 24min 2s, sys: 4min 36s, total: 1h 28min 39s\n",
      "Wall time: 25min 35s\n"
     ]
    }
   ],
   "source": [
    "%%time\n",
    "# Checkpoint:\n",
    "from keras.callbacks import ModelCheckpoint\n",
    "checkpoint = ModelCheckpoint(filepath='nn_checkpoint', monitor='val_acc', verbose=1, save_best_only=False, mode='max')\n",
    "callbacks_list = [checkpoint]\n",
    "\n",
    "# Using above grid serach parameters, we will fit simple NN model on the entire dataset\n",
    "model_grid_parm = KerasClassifier(build_fn=create_simple_NN, epochs = 8 , batch_size = 1000 , verbose = 1)\n",
    "\n",
    "# Estimate Cross val score\n",
    "result = cross_val_score(model_grid_parm, X.values, y.values, cv = cv, scoring='accuracy', fit_params={'callbacks': callbacks_list})"
   ]
  },
  {
   "cell_type": "code",
   "execution_count": 10,
   "metadata": {},
   "outputs": [
    {
     "data": {
      "text/plain": [
       "array([0.66271703, 0.67441944, 0.68741441])"
      ]
     },
     "execution_count": 10,
     "metadata": {},
     "output_type": "execute_result"
    }
   ],
   "source": [
    "# Cross_val_score: \n",
    "result"
   ]
  },
  {
   "cell_type": "code",
   "execution_count": 11,
   "metadata": {},
   "outputs": [
    {
     "name": "stdout",
     "output_type": "stream",
     "text": [
      "NN Mean Accuracy and Standard Deviation: 67.5 %, (1.0%)\n"
     ]
    }
   ],
   "source": [
    "# Mean Accuracy: \n",
    "means = np.mean(result).round(3)\n",
    "std = np.std(result).round(2)\n",
    "print(f\"NN Mean Accuracy and Standard Deviation: {means*100} %, ({std*100} %)\" )"
   ]
  },
  {
   "cell_type": "markdown",
   "metadata": {},
   "source": [
    "#### Approach 2: Using train_test_split"
   ]
  },
  {
   "cell_type": "code",
   "execution_count": 12,
   "metadata": {},
   "outputs": [],
   "source": [
    "# Train_test_Split: \n",
    "X_train, X_test, y_train, y_test = train_test_split(X.values, y.values, test_size = 0.2, shuffle = True, random_state = 0)"
   ]
  },
  {
   "cell_type": "code",
   "execution_count": 13,
   "metadata": {},
   "outputs": [
    {
     "name": "stdout",
     "output_type": "stream",
     "text": [
      "Model: \"sequential_2\"\n",
      "_________________________________________________________________\n",
      "Layer (type)                 Output Shape              Param #   \n",
      "=================================================================\n",
      "batch_normalization_2 (Batch (None, 30)                120       \n",
      "_________________________________________________________________\n",
      "dense_9 (Dense)              (None, 1000)              31000     \n",
      "_________________________________________________________________\n",
      "dropout_6 (Dropout)          (None, 1000)              0         \n",
      "_________________________________________________________________\n",
      "dense_10 (Dense)             (None, 500)               500500    \n",
      "_________________________________________________________________\n",
      "dropout_7 (Dropout)          (None, 500)               0         \n",
      "_________________________________________________________________\n",
      "dense_11 (Dense)             (None, 1000)              501000    \n",
      "_________________________________________________________________\n",
      "dropout_8 (Dropout)          (None, 1000)              0         \n",
      "_________________________________________________________________\n",
      "dense_12 (Dense)             (None, 500)               500500    \n",
      "_________________________________________________________________\n",
      "dropout_9 (Dropout)          (None, 500)               0         \n",
      "_________________________________________________________________\n",
      "dense_13 (Dense)             (None, 500)               250500    \n",
      "_________________________________________________________________\n",
      "dense_14 (Dense)             (None, 1000)              501000    \n",
      "_________________________________________________________________\n",
      "dense_15 (Dense)             (None, 1000)              1001000   \n",
      "_________________________________________________________________\n",
      "dropout_10 (Dropout)         (None, 1000)              0         \n",
      "_________________________________________________________________\n",
      "dense_16 (Dense)             (None, 1)                 1001      \n",
      "=================================================================\n",
      "Total params: 3,286,621\n",
      "Trainable params: 3,286,561\n",
      "Non-trainable params: 60\n",
      "_________________________________________________________________\n",
      "None\n",
      "Train on 332991 samples, validate on 83248 samples\n",
      "Epoch 1/8\n",
      "332991/332991 [==============================] - 78s 233us/step - loss: 0.6222 - accuracy: 0.6451 - val_loss: 0.6070 - val_accuracy: 0.6570\n",
      "Epoch 2/8\n",
      "332991/332991 [==============================] - 70s 210us/step - loss: 0.6053 - accuracy: 0.6564 - val_loss: 0.6009 - val_accuracy: 0.6592\n",
      "Epoch 3/8\n",
      "332991/332991 [==============================] - 71s 213us/step - loss: 0.6013 - accuracy: 0.6592 - val_loss: 0.5982 - val_accuracy: 0.6626\n",
      "Epoch 4/8\n",
      "332991/332991 [==============================] - 70s 209us/step - loss: 0.5988 - accuracy: 0.6613 - val_loss: 0.5968 - val_accuracy: 0.6622\n",
      "Epoch 5/8\n",
      "332991/332991 [==============================] - 71s 213us/step - loss: 0.5965 - accuracy: 0.6620 - val_loss: 0.5947 - val_accuracy: 0.6626\n",
      "Epoch 6/8\n",
      "332991/332991 [==============================] - 70s 210us/step - loss: 0.5945 - accuracy: 0.6642 - val_loss: 0.5928 - val_accuracy: 0.6642\n",
      "Epoch 7/8\n",
      "332991/332991 [==============================] - 70s 210us/step - loss: 0.5929 - accuracy: 0.6655 - val_loss: 0.5917 - val_accuracy: 0.6668\n",
      "Epoch 8/8\n",
      "332991/332991 [==============================] - 70s 210us/step - loss: 0.5912 - accuracy: 0.6677 - val_loss: 0.5924 - val_accuracy: 0.6658\n",
      "CPU times: user 34min 20s, sys: 1min 40s, total: 36min 1s\n",
      "Wall time: 9min 30s\n"
     ]
    }
   ],
   "source": [
    "%%time\n",
    "# Initiate Sequential model: \n",
    "model_split = Sequential()\n",
    "    \n",
    "# Add layers: \n",
    "\n",
    "# normalize\n",
    "model_split.add(BatchNormalization(input_shape = (30,)))\n",
    "\n",
    "# hidden layer with dropout\n",
    "model_split.add(Dense(1000, kernel_initializer='normal', activation='relu', input_shape= (30,) ))\n",
    "model_split.add(Dropout(0.1))\n",
    "\n",
    "# hidden layer with dropout\n",
    "model_split.add(Dense(500, kernel_initializer='normal', activation='relu'))\n",
    "model_split.add(Dropout(0.2))\n",
    "\n",
    "# hidden layer with dropout\n",
    "model_split.add(Dense(1000, kernel_initializer='normal',  activation='relu'))\n",
    "model_split.add(Dropout(0.2))\n",
    "\n",
    "# hidden layer with dropout\n",
    "model_split.add(Dense(500, kernel_initializer='normal', activation='relu'))\n",
    "model_split.add(Dropout(0.2))\n",
    "\n",
    "# hidden layer \n",
    "model_split.add(Dense(500, kernel_initializer='normal', activation='relu'))\n",
    "\n",
    "# hidden layer \n",
    "model_split.add(Dense(1000, kernel_initializer='normal', activation='relu'))\n",
    "\n",
    "# hidden layer with dropout\n",
    "model_split.add(Dense(1000, kernel_initializer='normal', activation='relu'))\n",
    "model_split.add(Dropout(0.1))\n",
    "\n",
    "# output layer\n",
    "model_split.add(Dense(1, kernel_initializer='normal', activation='sigmoid'))  \n",
    "    \n",
    "# compile model: \n",
    "model_split.compile(optimizer = 'adam', loss = 'binary_crossentropy', metrics = ['accuracy'])\n",
    "print(model_split.summary())\n",
    "\n",
    "# add callback: \n",
    "call_back=EarlyStopping(monitor='val_loss', min_delta=0, patience=0, verbose=0, mode='auto', baseline=None, restore_best_weights=True)\n",
    "\n",
    "\n",
    "# fit model: \n",
    "non_grid_nn = model_split.fit(X_train, y_train, validation_data= (X_test, y_test), epochs=8, batch_size=1000, callbacks= [call_back])\n"
   ]
  },
  {
   "cell_type": "markdown",
   "metadata": {},
   "source": [
    "## 2. Build CNN with Bidirectional GRU and Attention Layer: Architecture"
   ]
  },
  {
   "cell_type": "markdown",
   "metadata": {},
   "source": [
    "1. Approach 1: Using keras text preprocessing tokenizer\n",
    "2. Approach 2: Using SentencePiece"
   ]
  },
  {
   "cell_type": "markdown",
   "metadata": {},
   "source": [
    "#### 1. Approach 1: Using keras text preprocessing tokenizer"
   ]
  },
  {
   "cell_type": "code",
   "execution_count": 14,
   "metadata": {},
   "outputs": [],
   "source": [
    "# Prepare Text preprocessing: \n",
    "X_tok = features['norm_text'].values"
   ]
  },
  {
   "cell_type": "code",
   "execution_count": 15,
   "metadata": {},
   "outputs": [],
   "source": [
    "# Train_test_split:\n",
    "X_train_tok, X_test_tok, y_train, y_test = train_test_split(X_tok, y, test_size= 0.2, shuffle= True, random_state = 0)"
   ]
  },
  {
   "cell_type": "code",
   "execution_count": 16,
   "metadata": {},
   "outputs": [
    {
     "name": "stdout",
     "output_type": "stream",
     "text": [
      "(332991,) (83248,) (332991,) (83248,)\n"
     ]
    }
   ],
   "source": [
    "print(X_train_tok.shape, X_test_tok.shape, y_train.shape, y_test.shape)"
   ]
  },
  {
   "cell_type": "code",
   "execution_count": 17,
   "metadata": {},
   "outputs": [
    {
     "name": "stdout",
     "output_type": "stream",
     "text": [
      "other websites [42, 826]\n",
      "[[    0     0     0 ...     0    42   826]\n",
      " [    0     0     0 ...     4  5531  2698]\n",
      " [    0     0     0 ...    54   690 66235]\n",
      " ...\n",
      " [    0     0     0 ...     6   549  1303]\n",
      " [    0     0     0 ...     2     1  8820]\n",
      " [    0     0     0 ...   227     2  1231]]\n",
      "CPU times: user 15.9 s, sys: 325 ms, total: 16.2 s\n",
      "Wall time: 16 s\n"
     ]
    }
   ],
   "source": [
    "%%time\n",
    "# Keras Text Preprocessing: \n",
    "\n",
    "# Set a vocabulary size. This is the maximum number of words that can be used.\n",
    "vocabulary_size = 100000\n",
    "\n",
    "# create the tokenizer that comes with Keras.\n",
    "tokenizer = Tokenizer(num_words=vocabulary_size)\n",
    "tokenizer.fit_on_texts(X_train_tok)\n",
    "\n",
    "# convert text to sequences.\n",
    "X_train_tok_seq = tokenizer.texts_to_sequences(X_train_tok)\n",
    "X_test_tok_seq = tokenizer.texts_to_sequences(X_test_tok)\n",
    "\n",
    "# see difference between: \n",
    "print(X_train_tok[0], X_train_tok_seq[0])\n",
    "# we can convert id's back to text by passing it to tokenizer.sequences_to_texts \n",
    "\n",
    "# add padding to sequences:\n",
    "max_len = 100\n",
    "X_train_pad_tok = sequence.pad_sequences(X_train_tok_seq, maxlen=max_len)\n",
    "X_test_pad_tok = sequence.pad_sequences(X_test_tok_seq, maxlen=max_len)\n",
    "print(X_train_pad_tok)"
   ]
  },
  {
   "cell_type": "code",
   "execution_count": 18,
   "metadata": {},
   "outputs": [
    {
     "name": "stdout",
     "output_type": "stream",
     "text": [
      "Model: \"sequential_3\"\n",
      "_________________________________________________________________\n",
      "Layer (type)                 Output Shape              Param #   \n",
      "=================================================================\n",
      "embedding_1 (Embedding)      (None, 100, 32)           3200000   \n",
      "_________________________________________________________________\n",
      "conv1d_1 (Conv1D)            (None, 100, 32)           3104      \n",
      "_________________________________________________________________\n",
      "max_pooling1d_1 (MaxPooling1 (None, 50, 32)            0         \n",
      "_________________________________________________________________\n",
      "bidirectional_1 (Bidirection (None, 50, 120)           33480     \n",
      "_________________________________________________________________\n",
      "seq_weighted_attention_1 (Se (None, 120)               121       \n",
      "_________________________________________________________________\n",
      "dense_17 (Dense)             (None, 1)                 121       \n",
      "=================================================================\n",
      "Total params: 3,236,826\n",
      "Trainable params: 3,236,826\n",
      "Non-trainable params: 0\n",
      "_________________________________________________________________\n",
      "None\n",
      "Train on 332991 samples, validate on 83248 samples\n",
      "Epoch 1/8\n",
      "332991/332991 [==============================] - 409s 1ms/step - loss: 0.6110 - accuracy: 0.6594 - val_loss: 0.5843 - val_accuracy: 0.6940\n",
      "Epoch 2/8\n",
      "332991/332991 [==============================] - 385s 1ms/step - loss: 0.5361 - accuracy: 0.7270 - val_loss: 0.5702 - val_accuracy: 0.6949\n",
      "Epoch 3/8\n",
      "332991/332991 [==============================] - 388s 1ms/step - loss: 0.4869 - accuracy: 0.7584 - val_loss: 0.5901 - val_accuracy: 0.6862\n"
     ]
    }
   ],
   "source": [
    "\n",
    "# Create the model\n",
    "model_tok = Sequential()\n",
    "\n",
    "# parameters\n",
    "vocabulary_size = 100000\n",
    "embedding_vector_length = 32\n",
    "max_len = 100\n",
    "\n",
    "# add embedding layer:\n",
    "model_tok.add(Embedding(vocabulary_size,embedding_vector_length, input_length=max_len))\n",
    "\n",
    "# add 1-D convolutional layer with Max pooling:\n",
    "model_tok.add(Conv1D(filters=32, kernel_size=3, padding='same', activation='relu'))\n",
    "model_tok.add(MaxPooling1D(pool_size=2))\n",
    "\n",
    "# add bidirectional GRU with Dropout and attention layer:\n",
    "model_tok.add(Bidirectional(GRU(60, dropout=0.2, recurrent_dropout=0.2, return_sequences= True)))\n",
    "model_tok.add(SeqWeightedAttention())\n",
    "\n",
    "# add output layer:\n",
    "model_tok.add(Dense(1, activation='sigmoid'))\n",
    "\n",
    "# compile model:\n",
    "model_tok.compile(loss='binary_crossentropy', optimizer='adam', metrics=['accuracy'])\n",
    "print(model_tok.summary())\n",
    "\n",
    "# add call back\n",
    "call_back=EarlyStopping(monitor='val_loss', min_delta=0, patience=0, verbose=0, mode='auto', baseline=None, restore_best_weights=True)\n",
    "\n",
    "# fit model \n",
    "model_cnn_gru = model_tok.fit(X_train_pad_tok, y_train, validation_data= (X_test_pad_tok, y_test), epochs=8, batch_size=1000, callbacks= [call_back])\n",
    "\n"
   ]
  },
  {
   "cell_type": "markdown",
   "metadata": {},
   "source": [
    "#### 2. Approach 2: Using SentencePiece"
   ]
  },
  {
   "cell_type": "code",
   "execution_count": 19,
   "metadata": {},
   "outputs": [
    {
     "name": "stdout",
     "output_type": "stream",
     "text": [
      "CPU times: user 58.6 s, sys: 1.29 s, total: 59.9 s\n",
      "Wall time: 50.4 s\n"
     ]
    }
   ],
   "source": [
    "%%time\n",
    "# Train SentencePiece Model: \n",
    "spm.SentencePieceTrainer.train(input='WikiLarge_Train.csv',\n",
    "                               model_prefix='bpe', \n",
    "                               vocab_size=100000)\n",
    "\n",
    "# initiate spm_encoder\n",
    "spm_encoder = spm.SentencePieceProcessor(model_file='bpe.model')\n",
    "\n",
    "# create sm sequences\n",
    "features['sm'] = (features['norm_text']\n",
    "                  .apply(lambda x: spm_encoder.encode_as_ids(x)))"
   ]
  },
  {
   "cell_type": "code",
   "execution_count": 20,
   "metadata": {},
   "outputs": [
    {
     "name": "stdout",
     "output_type": "stream",
     "text": [
      "[[    0     0     0 ...     0    83  1150]\n",
      " [    0     0     0 ... 76556    19 38101]\n",
      " [    0     0     0 ...  1178 24993     7]\n",
      " ...\n",
      " [    0     0     0 ...   864   371  2174]\n",
      " [    0     0     0 ...     6     3 11395]\n",
      " [    0     0     0 ...   258     6  1347]]\n",
      "CPU times: user 2.11 s, sys: 12.8 ms, total: 2.12 s\n",
      "Wall time: 2.13 s\n"
     ]
    }
   ],
   "source": [
    "%%time\n",
    "#Get input and output values: \n",
    "X_sm = features['sm'].values\n",
    "y = features['label'].values\n",
    "\n",
    "#Split data: \n",
    "# Train_test_split:\n",
    "X_train_sm, X_test_sm, y_train, y_test = train_test_split(X_sm, y, test_size= 0.2, shuffle= True, random_state = 0)\n",
    "\n",
    "# add padding to sequences:\n",
    "max_len = 100\n",
    "X_train_pad_sm = sequence.pad_sequences(X_train_sm, maxlen = max_len)\n",
    "X_test_pad_sm = sequence.pad_sequences(X_test_sm, maxlen = max_len)\n",
    "print(X_train_pad_sm)"
   ]
  },
  {
   "cell_type": "code",
   "execution_count": 21,
   "metadata": {},
   "outputs": [
    {
     "name": "stdout",
     "output_type": "stream",
     "text": [
      "Model: \"sequential_4\"\n",
      "_________________________________________________________________\n",
      "Layer (type)                 Output Shape              Param #   \n",
      "=================================================================\n",
      "embedding_2 (Embedding)      (None, 100, 32)           3200000   \n",
      "_________________________________________________________________\n",
      "conv1d_2 (Conv1D)            (None, 100, 32)           3104      \n",
      "_________________________________________________________________\n",
      "max_pooling1d_2 (MaxPooling1 (None, 50, 32)            0         \n",
      "_________________________________________________________________\n",
      "bidirectional_2 (Bidirection (None, 50, 120)           33480     \n",
      "_________________________________________________________________\n",
      "seq_weighted_attention_2 (Se (None, 120)               121       \n",
      "_________________________________________________________________\n",
      "dense_18 (Dense)             (None, 1)                 121       \n",
      "=================================================================\n",
      "Total params: 3,236,826\n",
      "Trainable params: 3,236,826\n",
      "Non-trainable params: 0\n",
      "_________________________________________________________________\n",
      "None\n",
      "Train on 332991 samples, validate on 83248 samples\n",
      "Epoch 1/8\n",
      "332991/332991 [==============================] - 395s 1ms/step - loss: 0.6040 - accuracy: 0.6689 - val_loss: 0.5765 - val_accuracy: 0.6974\n",
      "Epoch 2/8\n",
      "332991/332991 [==============================] - 414s 1ms/step - loss: 0.5495 - accuracy: 0.7157 - val_loss: 0.5688 - val_accuracy: 0.6956\n",
      "Epoch 3/8\n",
      "332991/332991 [==============================] - 416s 1ms/step - loss: 0.5234 - accuracy: 0.7345 - val_loss: 0.5651 - val_accuracy: 0.6990\n",
      "Epoch 4/8\n",
      "332991/332991 [==============================] - 400s 1ms/step - loss: 0.4981 - accuracy: 0.7509 - val_loss: 0.5740 - val_accuracy: 0.6969\n",
      "CPU times: user 1h 29min 57s, sys: 9min 23s, total: 1h 39min 20s\n",
      "Wall time: 27min 7s\n"
     ]
    }
   ],
   "source": [
    "%%time\n",
    "# Create the model\n",
    "model_sm = Sequential()\n",
    "\n",
    "# parameters\n",
    "vocabulary_size = 100000\n",
    "embedding_vector_length = 32\n",
    "max_len = 100\n",
    "\n",
    "# add embedding layer:\n",
    "model_sm.add(Embedding(vocabulary_size,embedding_vector_length, input_length=max_len))\n",
    "\n",
    "# add 1-D convolutional layer with Max pooling:\n",
    "model_sm.add(Conv1D(filters=32, kernel_size=3, padding='same', activation='relu'))\n",
    "model_sm.add(MaxPooling1D(pool_size=2))\n",
    "\n",
    "# add bidirectional GRU with Dropout and attention layer:\n",
    "model_sm.add(Bidirectional(GRU(60, dropout=0.2, recurrent_dropout=0.2, return_sequences= True)))\n",
    "model_sm.add(SeqWeightedAttention())\n",
    "\n",
    "# add output layer:\n",
    "model_sm.add(Dense(1, activation='sigmoid'))\n",
    "\n",
    "# compile model:\n",
    "model_sm.compile(loss='binary_crossentropy', optimizer='adam', metrics=['accuracy'])\n",
    "print(model_sm.summary())\n",
    "\n",
    "# add call back\n",
    "call_back=EarlyStopping(monitor='val_loss', min_delta=0, patience=0, verbose=0, mode='auto', baseline=None, restore_best_weights=True)\n",
    "\n",
    "# fit model \n",
    "model_cnn_gru_sm = model_sm.fit(X_train_pad_sm, y_train, validation_data= (X_test_pad_sm, y_test), epochs=8, batch_size=1000, callbacks= [call_back])\n"
   ]
  },
  {
   "cell_type": "markdown",
   "metadata": {},
   "source": [
    "## Model Evaluation Summary:"
   ]
  },
  {
   "cell_type": "code",
   "execution_count": 219,
   "metadata": {},
   "outputs": [
    {
     "name": "stdout",
     "output_type": "stream",
     "text": [
      "CPU times: user 13min 31s, sys: 3min 34s, total: 17min 5s\n",
      "Wall time: 4min 45s\n"
     ]
    }
   ],
   "source": [
    "%%time\n",
    "# Predictions at 50% threshold and epoch= 8, batch_size = 1000 as per GridserachCV:\n",
    "\n",
    "# 1.Model Train Test Split: \n",
    "y_pred_split = np.where(model_split.predict(X_test)>=0.5, 1, 0)\n",
    "\n",
    "# Model Keras Tokenize:\n",
    "y_pred_tok = np.where(model_tok.predict(X_test_pad_tok)>=0.5, 1, 0)\n",
    "y_predproba_tok = model_tok.predict_proba(X_test_pad_tok)\n",
    "\n",
    "#Model Sentence Piece:\n",
    "y_pred_sm = np.where(model_sm.predict(X_test_pad_sm)>=0.5, 1, 0)\n",
    "y_predproba_sm = model_tok.predict_proba(X_test_pad_sm)"
   ]
  },
  {
   "cell_type": "code",
   "execution_count": 216,
   "metadata": {},
   "outputs": [
    {
     "data": {
      "text/html": [
       "<div>\n",
       "<style scoped>\n",
       "    .dataframe tbody tr th:only-of-type {\n",
       "        vertical-align: middle;\n",
       "    }\n",
       "\n",
       "    .dataframe tbody tr th {\n",
       "        vertical-align: top;\n",
       "    }\n",
       "\n",
       "    .dataframe thead th {\n",
       "        text-align: right;\n",
       "    }\n",
       "</style>\n",
       "<table border=\"1\" class=\"dataframe\">\n",
       "  <thead>\n",
       "    <tr style=\"text-align: right;\">\n",
       "      <th></th>\n",
       "      <th>Model_Train_Test_split</th>\n",
       "      <th>Model_Keras_Tokenizer</th>\n",
       "      <th>Model_Sentence_Piece</th>\n",
       "    </tr>\n",
       "  </thead>\n",
       "  <tbody>\n",
       "    <tr>\n",
       "      <th>Accuracy</th>\n",
       "      <td>0.67</td>\n",
       "      <td>0.69</td>\n",
       "      <td>0.70</td>\n",
       "    </tr>\n",
       "    <tr>\n",
       "      <th>Precision</th>\n",
       "      <td>0.66</td>\n",
       "      <td>0.74</td>\n",
       "      <td>0.72</td>\n",
       "    </tr>\n",
       "    <tr>\n",
       "      <th>Recall</th>\n",
       "      <td>0.70</td>\n",
       "      <td>0.61</td>\n",
       "      <td>0.65</td>\n",
       "    </tr>\n",
       "    <tr>\n",
       "      <th>F1_Score</th>\n",
       "      <td>0.68</td>\n",
       "      <td>0.67</td>\n",
       "      <td>0.68</td>\n",
       "    </tr>\n",
       "    <tr>\n",
       "      <th>ROC_AUC</th>\n",
       "      <td>0.67</td>\n",
       "      <td>0.69</td>\n",
       "      <td>0.70</td>\n",
       "    </tr>\n",
       "  </tbody>\n",
       "</table>\n",
       "</div>"
      ],
      "text/plain": [
       "           Model_Train_Test_split  Model_Keras_Tokenizer  Model_Sentence_Piece\n",
       "Accuracy                     0.67                   0.69                  0.70\n",
       "Precision                    0.66                   0.74                  0.72\n",
       "Recall                       0.70                   0.61                  0.65\n",
       "F1_Score                     0.68                   0.67                  0.68\n",
       "ROC_AUC                      0.67                   0.69                  0.70"
      ]
     },
     "metadata": {},
     "output_type": "display_data"
    }
   ],
   "source": [
    "from sklearn.metrics import confusion_matrix, classification_report, precision_score, recall_score, roc_auc_score, accuracy_score, roc_curve, f1_score\n",
    "dl_model_summary = round(pd.DataFrame({'Model_Train_Test_split': [accuracy_score(y_test, y_pred_split), precision_score(y_test, y_pred_split),recall_score(y_test, y_pred_split), f1_score(y_test, y_pred_split), roc_auc_score(y_test, y_pred_split)], \n",
    "             'Model_Keras_Tokenizer': [accuracy_score(y_test, y_pred_tok), precision_score(y_test, y_pred_tok),recall_score(y_test, y_pred_tok), f1_score(y_test, y_pred_tok), roc_auc_score(y_test, y_pred_tok)], \n",
    "             'Model_Sentence_Piece': [accuracy_score(y_test, y_pred_sm), precision_score(y_test, y_pred_sm),recall_score(y_test, y_pred_sm), f1_score(y_test, y_pred_sm), roc_auc_score(y_test, y_pred_sm)]}, \n",
    "             index = ['Accuracy', 'Precision', 'Recall', 'F1_Score', 'ROC_AUC']),2)\n",
    "\n",
    "display(dl_model_summary)"
   ]
  },
  {
   "cell_type": "code",
   "execution_count": 217,
   "metadata": {},
   "outputs": [
    {
     "data": {
      "text/html": [
       "\n",
       "<div id=\"altair-viz-be038d86dc8a41aba7596c1be830331a\"></div>\n",
       "<script type=\"text/javascript\">\n",
       "  (function(spec, embedOpt){\n",
       "    let outputDiv = document.currentScript.previousElementSibling;\n",
       "    if (outputDiv.id !== \"altair-viz-be038d86dc8a41aba7596c1be830331a\") {\n",
       "      outputDiv = document.getElementById(\"altair-viz-be038d86dc8a41aba7596c1be830331a\");\n",
       "    }\n",
       "    const paths = {\n",
       "      \"vega\": \"https://cdn.jsdelivr.net/npm//vega@5?noext\",\n",
       "      \"vega-lib\": \"https://cdn.jsdelivr.net/npm//vega-lib?noext\",\n",
       "      \"vega-lite\": \"https://cdn.jsdelivr.net/npm//vega-lite@4.8.1?noext\",\n",
       "      \"vega-embed\": \"https://cdn.jsdelivr.net/npm//vega-embed@6?noext\",\n",
       "    };\n",
       "\n",
       "    function loadScript(lib) {\n",
       "      return new Promise(function(resolve, reject) {\n",
       "        var s = document.createElement('script');\n",
       "        s.src = paths[lib];\n",
       "        s.async = true;\n",
       "        s.onload = () => resolve(paths[lib]);\n",
       "        s.onerror = () => reject(`Error loading script: ${paths[lib]}`);\n",
       "        document.getElementsByTagName(\"head\")[0].appendChild(s);\n",
       "      });\n",
       "    }\n",
       "\n",
       "    function showError(err) {\n",
       "      outputDiv.innerHTML = `<div class=\"error\" style=\"color:red;\">${err}</div>`;\n",
       "      throw err;\n",
       "    }\n",
       "\n",
       "    function displayChart(vegaEmbed) {\n",
       "      vegaEmbed(outputDiv, spec, embedOpt)\n",
       "        .catch(err => showError(`Javascript Error: ${err.message}<br>This usually means there's a typo in your chart specification. See the javascript console for the full traceback.`));\n",
       "    }\n",
       "\n",
       "    if(typeof define === \"function\" && define.amd) {\n",
       "      requirejs.config({paths});\n",
       "      require([\"vega-embed\"], displayChart, err => showError(`Error loading script: ${err.message}`));\n",
       "    } else if (typeof vegaEmbed === \"function\") {\n",
       "      displayChart(vegaEmbed);\n",
       "    } else {\n",
       "      loadScript(\"vega\")\n",
       "        .then(() => loadScript(\"vega-lite\"))\n",
       "        .then(() => loadScript(\"vega-embed\"))\n",
       "        .catch(showError)\n",
       "        .then(() => displayChart(vegaEmbed));\n",
       "    }\n",
       "  })({\"config\": {\"view\": {\"continuousWidth\": 400, \"continuousHeight\": 300}, \"background\": \"#f0f0f0\"}, \"layer\": [{\"mark\": {\"type\": \"line\", \"color\": \"grey\"}, \"encoding\": {\"tooltip\": [{\"type\": \"quantitative\", \"field\": \"Model_Train_Test_split\"}, {\"type\": \"nominal\", \"field\": \"Metric\"}], \"x\": {\"type\": \"nominal\", \"field\": \"Metric\"}, \"y\": {\"type\": \"quantitative\", \"field\": \"Model_Train_Test_split\", \"scale\": {\"domain\": [0.6, 0.8]}, \"title\": \"Score\"}}}, {\"mark\": {\"type\": \"circle\", \"color\": \"grey\", \"size\": 100}, \"encoding\": {\"tooltip\": [{\"type\": \"quantitative\", \"field\": \"Model_Train_Test_split\"}, {\"type\": \"nominal\", \"field\": \"Metric\"}], \"x\": {\"type\": \"nominal\", \"field\": \"Metric\"}, \"y\": {\"type\": \"quantitative\", \"field\": \"Model_Train_Test_split\", \"scale\": {\"domain\": [0.6, 0.8]}, \"title\": \"\"}}}, {\"mark\": {\"type\": \"line\", \"color\": \"red\"}, \"encoding\": {\"tooltip\": [{\"type\": \"quantitative\", \"field\": \"Model_Keras_Tokenizer\"}, {\"type\": \"nominal\", \"field\": \"Metric\"}], \"x\": {\"type\": \"nominal\", \"field\": \"Metric\"}, \"y\": {\"type\": \"quantitative\", \"field\": \"Model_Keras_Tokenizer\", \"scale\": {\"domain\": [0.6, 0.8]}, \"title\": \"\"}}}, {\"mark\": {\"type\": \"circle\", \"color\": \"red\", \"size\": 100}, \"encoding\": {\"tooltip\": [{\"type\": \"quantitative\", \"field\": \"Model_Keras_Tokenizer\"}, {\"type\": \"nominal\", \"field\": \"Metric\"}], \"x\": {\"type\": \"nominal\", \"field\": \"Metric\"}, \"y\": {\"type\": \"quantitative\", \"field\": \"Model_Keras_Tokenizer\", \"scale\": {\"domain\": [0.6, 0.8]}, \"title\": \"\"}}}, {\"mark\": {\"type\": \"line\", \"color\": \"orange\"}, \"encoding\": {\"tooltip\": [{\"type\": \"quantitative\", \"field\": \"Model_Sentence_Piece\"}, {\"type\": \"nominal\", \"field\": \"Metric\"}], \"x\": {\"type\": \"nominal\", \"field\": \"Metric\"}, \"y\": {\"type\": \"quantitative\", \"field\": \"Model_Sentence_Piece\", \"scale\": {\"domain\": [0.6, 0.8]}, \"title\": \"\"}}}, {\"mark\": {\"type\": \"circle\", \"color\": \"orange\", \"size\": 100}, \"encoding\": {\"tooltip\": [{\"type\": \"quantitative\", \"field\": \"Model_Sentence_Piece\"}, {\"type\": \"nominal\", \"field\": \"Metric\"}], \"x\": {\"type\": \"nominal\", \"field\": \"Metric\"}, \"y\": {\"type\": \"quantitative\", \"field\": \"Model_Sentence_Piece\", \"scale\": {\"domain\": [0.6, 0.8]}, \"title\": \"\"}}}], \"data\": {\"name\": \"data-8f4f23d9260c389b5c67c2fe0402d303\"}, \"height\": 400, \"title\": [\"DL Model Evaluation Summary\", \"\\n\", \"\\ud83d\\udd34--Model_Keras_Tokenizer\", \"\\ud83d\\udfe0---Model_Sentence_Piece\", \"\\u26aa----Model_Train_Test-Split\"], \"width\": 800, \"$schema\": \"https://vega.github.io/schema/vega-lite/v4.8.1.json\", \"datasets\": {\"data-8f4f23d9260c389b5c67c2fe0402d303\": [{\"Metric\": \"Accuracy\", \"Model_Train_Test_split\": 0.67, \"Model_Keras_Tokenizer\": 0.69, \"Model_Sentence_Piece\": 0.7}, {\"Metric\": \"Precision\", \"Model_Train_Test_split\": 0.66, \"Model_Keras_Tokenizer\": 0.74, \"Model_Sentence_Piece\": 0.72}, {\"Metric\": \"Recall\", \"Model_Train_Test_split\": 0.7, \"Model_Keras_Tokenizer\": 0.61, \"Model_Sentence_Piece\": 0.65}, {\"Metric\": \"F1_Score\", \"Model_Train_Test_split\": 0.68, \"Model_Keras_Tokenizer\": 0.67, \"Model_Sentence_Piece\": 0.68}, {\"Metric\": \"ROC_AUC\", \"Model_Train_Test_split\": 0.67, \"Model_Keras_Tokenizer\": 0.69, \"Model_Sentence_Piece\": 0.7}]}}, {\"mode\": \"vega-lite\"});\n",
       "</script>"
      ],
      "text/plain": [
       "alt.LayerChart(...)"
      ]
     },
     "execution_count": 217,
     "metadata": {},
     "output_type": "execute_result"
    }
   ],
   "source": [
    "# Plot Model performance: \n",
    "\n",
    "summary = dl_model_summary.reset_index().rename(columns = {'index':'Metric'})\n",
    "\n",
    "import altair as alt\n",
    "model_split_line = (alt.Chart(summary)\n",
    "         .mark_line(color = 'grey').encode(\n",
    "             y = alt.Y('Model_Train_Test_split:Q', scale = alt.Scale(domain= [0.6,0.8]),title = \"Score\"),\n",
    "             x= alt.X('Metric'),\n",
    "             tooltip = alt.Tooltip(['Model_Train_Test_split:Q','Metric:N'])))\n",
    "\n",
    "model_split_circle = (alt.Chart(summary)\n",
    "         .mark_circle(color = 'grey', size = 100).encode(\n",
    "             y = alt.Y('Model_Train_Test_split:Q', scale = alt.Scale(domain= [0.6,0.8]),title = \"\"),\n",
    "             x= alt.X('Metric'),\n",
    "             tooltip = alt.Tooltip(['Model_Train_Test_split:Q','Metric:N'])))\n",
    "              \n",
    "              \n",
    "model_tok_line = (alt.Chart(summary)\n",
    "                  .mark_line(color = 'red').encode(\n",
    "                      y = alt.Y('Model_Keras_Tokenizer:Q', scale = alt.Scale(domain= [0.6,0.8]),title = \"\"),\n",
    "                      x= alt.X('Metric'),\n",
    "                      tooltip = alt.Tooltip(['Model_Keras_Tokenizer:Q','Metric:N'])))\n",
    "\n",
    "\n",
    "model_tok_circle = (alt.Chart(summary)\n",
    "                  .mark_circle(color = 'red', size = 100).encode(\n",
    "                      y = alt.Y('Model_Keras_Tokenizer:Q', scale = alt.Scale(domain= [0.6,0.8]),title = \"\"),\n",
    "                      x= alt.X('Metric'),\n",
    "                      tooltip = alt.Tooltip(['Model_Keras_Tokenizer:Q','Metric:N'])))\n",
    "\n",
    "model_sm_line = (alt.Chart(summary)\n",
    "                 .mark_line(color ='orange')\n",
    "                 .encode(y = alt.Y('Model_Sentence_Piece:Q', scale = alt.Scale(domain= [0.6,0.8]),title = \"\"),\n",
    "                         x= alt.X('Metric'),\n",
    "                         tooltip = alt.Tooltip(['Model_Sentence_Piece:Q','Metric:N'])))\n",
    "\n",
    "model_sm_circle = (alt.Chart(summary)\n",
    "                 .mark_circle(color ='orange', size = 100)\n",
    "                 .encode(y = alt.Y('Model_Sentence_Piece:Q', scale = alt.Scale(domain= [0.6,0.8]),title = \"\"),\n",
    "                         x= alt.X('Metric'),\n",
    "                         tooltip = alt.Tooltip(['Model_Sentence_Piece:Q','Metric:N'])))\n",
    "\n",
    "\n",
    "((model_split_line+model_split_circle+model_tok_line+model_tok_circle+model_sm_line+model_sm_circle)\n",
    " .configure_view(strokeWidth =0)\n",
    " .configure(background = '#f0f0f0')\n",
    " .properties(title= ['DL Model Evaluation Summary','\\n',\n",
    "                     '🔴--Model_Keras_Tokenizer',\n",
    "                     '🟠---Model_Sentence_Piece',\n",
    "                     '⚪----Model_Train_Test-Split'], width = 800, height = 400))\n"
   ]
  },
  {
   "cell_type": "markdown",
   "metadata": {},
   "source": [
    "### Observation: \n",
    "\n",
    "1. CNN-BiGRU-Attention with both tokenizers offered comparable model accuracy and precision scores on the validation dataset. \n",
    "2. Model performance was extremely sensitive to hyperparameters such number of neurons, bidirectional layer and batch_size. \n",
    "3. Simple NN architecture with GridsearchCV was helpful in picking out epochs and batch_size for better run time.  "
   ]
  },
  {
   "cell_type": "code",
   "execution_count": 224,
   "metadata": {},
   "outputs": [
    {
     "data": {
      "image/png": "[encoded data removed]",
      "text/plain": [
       "<Figure size 1080x720 with 1 Axes>"
      ]
     },
     "metadata": {},
     "output_type": "display_data"
    }
   ],
   "source": [
    "# Plot of ROC Curve:  \n",
    "from plot_metric.functions import BinaryClassification\n",
    "# Visualisation with plot_metric\n",
    "model_tkn = BinaryClassification(y_test, y_predproba_tok, labels=[\"Class 1\", \"Class 2\"])\n",
    "model_spm = BinaryClassification(y_test, y_predproba_sm, labels=[\"Class 1\", \"Class 2\"])\n",
    "\n",
    "# Figures\n",
    "plt.figure(figsize=(15,10))\n",
    "model_tkn.plot_roc_curve(c_roc_curve='blue', threshold = 0.5)\n",
    "model_spm.plot_roc_curve()\n",
    "_ = plt.title('Receiver Operating Characteristics \\n Tokenized (Blue) Vs Sentence Piece at 50% Threshold')\n",
    "plt.show()\n",
    "\n",
    "\n",
    "# AUC ROC score for Extracted Random forest model is 80% at 50% threshold as shown by the blue curve. "
   ]
  },
  {
   "cell_type": "markdown",
   "metadata": {},
   "source": [
    "### Observation: \n",
    "1. Significant difference in ROC curve area between the two model, which was interesting to note and will require few more iterations.  "
   ]
  }
 ],
 "metadata": {
  "kernelspec": {
   "display_name": "Python 3",
   "language": "python",
   "name": "python3"
  },
  "language_info": {
   "codemirror_mode": {
    "name": "ipython",
    "version": 3
   },
   "file_extension": ".py",
   "mimetype": "text/x-python",
   "name": "python",
   "nbconvert_exporter": "python",
   "pygments_lexer": "ipython3",
   "version": "3.6.6"
  }
 },
 "nbformat": 4,
 "nbformat_minor": 4
}
